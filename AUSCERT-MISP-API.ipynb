{
 "cells": [
  {
   "cell_type": "markdown",
   "metadata": {},
   "source": [
    "## 1. Initializing PyMISP and connecting to the MISP instance."
   ]
  },
  {
   "cell_type": "code",
   "execution_count": 1,
   "metadata": {},
   "outputs": [],
   "source": [
    "# The URL of the MISP instance to connect to\n",
    "\n",
    "misp_url = 'https://misp-instance.com.au/'\n",
    "# Can be found in the MISP web interface under ||\n",
    "# http://+MISP_URL+/users/view/me -> Authkey\n",
    "misp_key = 'api-key'\n",
    "# Should PyMISP verify the MISP certificate\n",
    "misp_verifycert = False"
   ]
  },
  {
   "cell_type": "code",
   "execution_count": 2,
   "metadata": {
    "scrolled": true
   },
   "outputs": [
    {
     "name": "stderr",
     "output_type": "stream",
     "text": [
      "The version of PyMISP recommended by the MISP instance (2.4.188) is newer than the one you're using now (2.4.167). Please upgrade PyMISP.\n"
     ]
    }
   ],
   "source": [
    "#Initialize PyMISP\n",
    "\n",
    "from pymisp import PyMISP\n",
    "misp = PyMISP(misp_url, misp_key, debug=False)"
   ]
  },
  {
   "cell_type": "markdown",
   "metadata": {},
   "source": [
    "## 2. Pulling events using specific tag and date\n",
    "\n",
    "Tags can be 'VirusTotal', 'URLscan', 'AUSCERT', 'Community sourced', 'Third party sourced', 'CTIS - High Confidence', 'AlienVault OTX', 'tlp:green, tlp:amber, tlp:white'\n",
    "\n",
    "These are also searchable fields:\n",
    "id: 33980\n",
    "orgc_id: 2\n",
    "org_id: 2\n",
    "date: 2024-03-05\n",
    "threat_level_id: 2\n",
    "info: 2024-03-05 - VirusTotal Ransomware daily IoC's\n",
    "published: False\n",
    "uuid: c5ce2bc0-3356-4247-956f-8791b662dd42\n",
    "attribute_count: 1723\n",
    "analysis: 2\n",
    "timestamp: 1709593257\n",
    "distribution: 2\n",
    "proposal_email_lock: False\n",
    "locked: False\n",
    "publish_timestamp: 0\n",
    "sharing_group_id: 0\n",
    "disable_correlation: False\n",
    "extends_uuid: \n",
    "protected: None\n",
    "event_creator_email: test@auscert.org.au"
   ]
  },
  {
   "cell_type": "code",
   "execution_count": 4,
   "metadata": {},
   "outputs": [
    {
     "name": "stdout",
     "output_type": "stream",
     "text": [
      "[<MISPEvent(info=2024-04-09 - Potentially malicious URLs submitted from Australian IP in URLscan.io), <MISPEvent(info=2024-04-09 - VirusTotal Ransomware daily IoC's), <MISPEvent(info=2024-04-10 - Potentially malicious URLs submitted from Australian IP in URLscan.io), <MISPEvent(info=2024-04-10 - VirusTotal Ransomware daily IoC's)]\n",
      "After adding Virustotal tag: \n",
      "[<MISPEvent(info=2024-04-09 - VirusTotal Ransomware daily IoC's), <MISPEvent(info=2024-04-10 - VirusTotal Ransomware daily IoC's)]\n"
     ]
    }
   ],
   "source": [
    "#Search events that tagged with 'VirusTotal' and from 2024-04-09 to 2024-04-10\n",
    "\n",
    "events = misp.search(date=['2024-04-09', '2024-04-10'], tags=['tlp:green'], metadata=False, pythonify=True)\n",
    "print(events)\n",
    "print(\"After adding Virustotal tag: \")\n",
    "#From all tlp:green tagged events, I'm now interested in Virustotal tagged event.\n",
    "filtered_events = [event for event in events if any(tag.name == 'VirusTotal' for tag in event.tags)]\n",
    "print(filtered_events)\n",
    "\n",
    "#we can keep adding more filters until we get what we want."
   ]
  },
  {
   "cell_type": "code",
   "execution_count": 22,
   "metadata": {},
   "outputs": [],
   "source": [
    "#Search events that tagged with 'AUSCERT' and from 48hrs ago to 24hrs ago.\n",
    "\n",
    "events = misp.search(timestamp=['48h', '24h'], tags=['AUSCERT'], metadata=False, pythonify=True)"
   ]
  },
  {
   "cell_type": "code",
   "execution_count": 39,
   "metadata": {},
   "outputs": [],
   "source": [
    "#Search events that tagged with 'URLscan' and since 2024-02-19\n",
    "\n",
    "events = misp.search(date='2024-04-19', tags=['URLScan'], metadata=False, pythonify=True)"
   ]
  },
  {
   "cell_type": "code",
   "execution_count": 30,
   "metadata": {},
   "outputs": [],
   "source": [
    "#Search events that tagged with 'tlp:green' and in last 48hrs\n",
    "\n",
    "events = misp.search(timestamp='48h', tags=['tlp:green'], metadata=False, pythonify=True)"
   ]
  },
  {
   "cell_type": "code",
   "execution_count": 33,
   "metadata": {},
   "outputs": [],
   "source": [
    "#Search events using system time\n",
    "\n",
    "from datetime import datetime, date, timedelta\n",
    "from dateutil.parser import parse\n",
    "\n",
    "today = int(datetime.today().timestamp())\n",
    "yesterday = int((datetime.today() - timedelta(days=1)).timestamp())\n",
    "\n",
    "events = misp.search(timestamp=yesterday,tags=['tlp:amber'], metadata=False, pythonify=True)"
   ]
  },
  {
   "cell_type": "code",
   "execution_count": 43,
   "metadata": {},
   "outputs": [],
   "source": [
    "#Search events with eventid\n",
    "\n",
    "events = misp.search(eventid=[33980], metadata=False, pythonify=True)"
   ]
  },
  {
   "cell_type": "code",
   "execution_count": 5,
   "metadata": {},
   "outputs": [
    {
     "name": "stdout",
     "output_type": "stream",
     "text": [
      "[<MISPEvent(info=2024-04-09 - Potentially malicious URLs submitted from Australian IP in URLscan.io), <MISPEvent(info=2024-04-09 - VirusTotal Ransomware daily IoC's), <MISPEvent(info=2024-04-10 - Potentially malicious URLs submitted from Australian IP in URLscan.io), <MISPEvent(info=2024-04-10 - VirusTotal Ransomware daily IoC's)]\n"
     ]
    }
   ],
   "source": [
    "#Printing search results\n",
    "print(events)"
   ]
  },
  {
   "cell_type": "markdown",
   "metadata": {},
   "source": [
    "## 3. Printing MISP attributes from events that found by our previous search."
   ]
  },
  {
   "cell_type": "code",
   "execution_count": 10,
   "metadata": {},
   "outputs": [
    {
     "name": "stdout",
     "output_type": "stream",
     "text": [
      "<MISPEvent(info=2024-04-09 - VirusTotal Ransomware daily IoC's)\n",
      "Event ID: 51354\n",
      "Event Date: 2024-04-09\n",
      "Attribute count: 2107\n",
      "<MISPEvent(info=2024-04-10 - VirusTotal Ransomware daily IoC's)\n",
      "Event ID: 51356\n",
      "Event Date: 2024-04-10\n",
      "Attribute count: 1963\n"
     ]
    }
   ],
   "source": [
    "# If search found multiple events, this for loop will check each one of them.\n",
    "for event in filtered_events:\n",
    "    \n",
    "    #printing informations about the event\n",
    "    print(event)\n",
    "    print(\"Event ID: \" + str(event.id))\n",
    "    print(\"Event Date: \" + str(event.date))\n",
    "    print(\"Attribute count: \" + str(event.attribute_count))\n",
    "    \n",
    "    #MISP event can have attributes and also Objects. This part of code will cover both of them.\n",
    "    Object_list = event.Object    \n",
    "    Attribute_list = event.Attribute\n",
    "    final_list = []\n",
    "    #if event has objects\n",
    "    if Object_list:\n",
    "        for misp_object in Object_list:\n",
    "            if hasattr(misp_object, \"Attribute\"):\n",
    "                #print(misp_object.Attribute)\n",
    "                attr_list = misp_object.Attribute\n",
    "                for attr in attr_list:\n",
    "                    #if attr.object_relation==\"md5\" and attr.to_ids == True:\n",
    "                        #final_list.append(attr.value)\n",
    "                        #print(attr.value)\n",
    "                    if attr.to_ids == True:\n",
    "                        final_list.append(attr.value)\n",
    "                        #print(attr.value)\n",
    "                #print(attr)\n",
    "            else:\n",
    "                print(f\"One of the objects does not have 'Object' or 'Attributes' attribute.\")\n",
    "    else:\n",
    "        print(\"No object in this event.\")\n",
    "    \n",
    "    #if event has attributes\n",
    "    if Attribute_list:\n",
    "        for attribute in Attribute_list:\n",
    "            #print(attribute.type)\n",
    "            if attribute.to_ids == True:\n",
    "                final_list.append(attr.value)\n",
    "                #print(attribute.value)\n",
    "    else:\n",
    "        print(\"No attribute in this event\")\n",
    "    \n",
    "    #Writing into a text file\n",
    "    import json\n",
    "    output_data = {'Attributes': final_list}\n",
    "    json_output = json.dumps(output_data)\n",
    "    #print(json_output)\n",
    "    with open(str(event.id)+'.txt', 'w') as file:\n",
    "        file.write(json_output)"
   ]
  },
  {
   "cell_type": "markdown",
   "metadata": {},
   "source": [
    "### You can also choose which type of attribute you want to filter\n",
    "\n",
    "#### For all atrributes with IDS tag:\n",
    "\n",
    "if attr.to_ids == True:\n",
    "\n",
    "#### For md5, sha1, sha256 hash or URL with IDS tag:\n",
    "\n",
    "if attr.object_relation==\"md5\" and attr.to_ids == True:\n",
    "\n",
    "if attr.object_relation==\"sha1\" and attr.to_ids == True:\n",
    "\n",
    "if attr.object_relation==\"sha256\" and attr.to_ids == True:\n",
    "\n",
    "if attr.object_relation==\"URL\" and attr.to_ids == True:"
   ]
  },
  {
   "cell_type": "code",
   "execution_count": 9,
   "metadata": {
    "scrolled": true
   },
   "outputs": [
    {
     "name": "stdout",
     "output_type": "stream",
     "text": [
      "2024-05-27\n",
      "{'id': '27674591', 'title': 'Attribute (6142369) from Event (51433): Other/text Severity MEDIUM because it was considered trojan.', 'created': '2024-05-29 13:46:56', 'model': 'Attribute', 'model_id': '6142369', 'action': 'delete', 'user_id': '5', 'change': '', 'email': 'duke@auscert.org.au', 'org': 'AusCERT', 'description': 'Attribute \"Severity MEDIUM because it was considered trojan.\" (6142369) deleted by User \"duke@auscert.org.au\" (5).', 'ip': '10.209.209.169'}\n",
      "Event ID: 6142369 was deleted by duke@auscert.org.au at 2024-05-29 13:46:56\n",
      "{'id': '27674630', 'title': 'Attribute (6142315) from Event (51433): Other/text Severity MEDIUM because it was considered trojan.', 'created': '2024-05-29 15:29:09', 'model': 'Attribute', 'model_id': '6142315', 'action': 'delete', 'user_id': '5', 'change': '', 'email': 'duke@auscert.org.au', 'org': 'AusCERT', 'description': 'Attribute \"Severity MEDIUM because it was considered trojan.\" (6142315) updated by User \"duke@auscert.org.au\" (5).', 'ip': '10.209.209.169'}\n",
      "Event ID: 6142315 was deleted by duke@auscert.org.au at 2024-05-29 15:29:09\n"
     ]
    }
   ],
   "source": [
    "#to know recently deleted attributes, we can use this code. \n",
    "# Searching any edited or deleted attributes from MISP log.\n",
    "from datetime import datetime, timedelta\n",
    "\n",
    "date_from = (datetime.now() - timedelta(days=7)).strftime('%Y-%m-%d')\n",
    "print(date_from)\n",
    "date_to = datetime.now().strftime('%Y-%m-%d')\n",
    "\n",
    "logs = misp.search_logs(model='Attribute', limit=5, action='delete', created=date_from)\n",
    "\n",
    "for log in logs:\n",
    "    print(log['Log'])\n",
    "    action = log['Log']['action']\n",
    "    event_id = log['Log']['model_id']\n",
    "    user_email = log['Log']['email']\n",
    "    timestamp = log['Log']['created']\n",
    "    if action == 'edit':\n",
    "        print(f\"Event ID: {event_id} was edited by {user_email} at {timestamp}\")\n",
    "    if action == 'delete':\n",
    "        print(f\"Event ID: {event_id} was deleted by {user_email} at {timestamp}\")\n",
    "#print(logs)"
   ]
  },
  {
   "cell_type": "markdown",
   "metadata": {},
   "source": [
    "## 4. Searching Indicator from MISP"
   ]
  },
  {
   "cell_type": "code",
   "execution_count": 47,
   "metadata": {},
   "outputs": [
    {
     "name": "stdout",
     "output_type": "stream",
     "text": [
      "33980\n",
      "2024-03-05 - VirusTotal Ransomware daily IoC's\n"
     ]
    }
   ],
   "source": [
    "#this one is useful for finding IoC's from the MISP\n",
    "complex_query = misp.build_complex_query(or_parameters=['af696f4bd3d739398070aa247888d55ccd30b272'])\n",
    "events = misp.search(value=complex_query)\n",
    "\n",
    "for e in events:\n",
    "    print(e['Event']['id'])\n",
    "    print(e['Event']['info'])"
   ]
  },
  {
   "cell_type": "code",
   "execution_count": null,
   "metadata": {},
   "outputs": [],
   "source": []
  }
 ],
 "metadata": {
  "kernelspec": {
   "display_name": "Python 3 (ipykernel)",
   "language": "python",
   "name": "python3"
  },
  "language_info": {
   "codemirror_mode": {
    "name": "ipython",
    "version": 3
   },
   "file_extension": ".py",
   "mimetype": "text/x-python",
   "name": "python",
   "nbconvert_exporter": "python",
   "pygments_lexer": "ipython3",
   "version": "3.10.8"
  }
 },
 "nbformat": 4,
 "nbformat_minor": 2
}
